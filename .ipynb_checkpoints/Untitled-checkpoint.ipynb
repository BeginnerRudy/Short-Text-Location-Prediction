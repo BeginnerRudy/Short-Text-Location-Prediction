{
 "cells": [
  {
   "cell_type": "code",
   "execution_count": null,
   "metadata": {},
   "outputs": [],
   "source": [
    "from sklearn.metrics.pairwise import cosine_similarity\n",
    "from sklearn import svm\n",
    "from sklearn.naive_bayes import GaussianNB, MultinomialNB, BernoulliNB\n",
    "from sklearn.model_selection import cross_val_score\n",
    "from sklearn.model_selection import train_test_split\n",
    "from sklearn.metrics import accuracy_score\n",
    "from sklearn.dummy import DummyClassifier\n",
    "from sklearn.linear_model import LogisticRegression\n",
    "import time\n",
    "import numpy as np"
   ]
  },
  {
   "cell_type": "code",
   "execution_count": null,
   "metadata": {},
   "outputs": [],
   "source": [
    "train_top_10 = \"./2019S1-proj2-data_dos/train-top10.csv\"\n",
    "dev_top_10 = \"./2019S1-proj2-data_dos/dev-top10.csv\"\n",
    "train_top_50 = \"./2019S1-proj2-data_dos/train-top50.csv\"\n",
    "dev_top_50 = \"./2019S1-proj2-data_dos/dev-top50.csv\"\n",
    "train_top_100 = \"./2019S1-proj2-data_dos/train-top100.csv\"\n",
    "dev_top_100 = \"./2019S1-proj2-data_dos/dev-top100.csv\""
   ]
  },
  {
   "cell_type": "code",
   "execution_count": null,
   "metadata": {},
   "outputs": [],
   "source": [
    "def load_dataset_without_head(filepath):\n",
    "    X, y = [], []\n",
    "    with open(filepath, 'r') as fin:\n",
    "        for line in fin:\n",
    "            atts = line[:].split(\",\")\n",
    "            # do not insert ID into X\n",
    "            X.append(atts[1:-1])\n",
    "            y.append(atts[-1])\n",
    "            \n",
    "    X = np.array(X, dtype=float)\n",
    "    return X, y\n"
   ]
  },
  {
   "cell_type": "code",
   "execution_count": null,
   "metadata": {},
   "outputs": [],
   "source": [
    "# read csv file\n",
    "X,y = load_dataset_without_head(train_top_10)\n",
    "\n",
    "# try each model without feature selection\n",
    "start = time.time()\n",
    "acc = np.mean(cross_val_score(model, X, y, cv=10))\n",
    "end = time.time()\n",
    "t = end - start\n",
    "print(\"K-NN with cosine similarity\", acc, 'time:', t)"
   ]
  }
 ],
 "metadata": {
  "kernelspec": {
   "display_name": "Python 3",
   "language": "python",
   "name": "python3"
  },
  "language_info": {
   "codemirror_mode": {
    "name": "ipython",
    "version": 3
   },
   "file_extension": ".py",
   "mimetype": "text/x-python",
   "name": "python",
   "nbconvert_exporter": "python",
   "pygments_lexer": "ipython3",
   "version": "3.6.7"
  },
  "toc": {
   "base_numbering": 1,
   "nav_menu": {},
   "number_sections": true,
   "sideBar": true,
   "skip_h1_title": false,
   "title_cell": "Table of Contents",
   "title_sidebar": "Contents",
   "toc_cell": false,
   "toc_position": {},
   "toc_section_display": true,
   "toc_window_display": true
  }
 },
 "nbformat": 4,
 "nbformat_minor": 2
}

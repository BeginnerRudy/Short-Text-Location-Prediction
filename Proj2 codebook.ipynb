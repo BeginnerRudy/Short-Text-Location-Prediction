{
 "cells": [
  {
   "cell_type": "code",
   "execution_count": 1,
   "metadata": {
    "ExecuteTime": {
     "end_time": "2019-05-14T07:03:22.867853Z",
     "start_time": "2019-05-14T07:03:19.905124Z"
    }
   },
   "outputs": [],
   "source": [
    "from sklearn.metrics.pairwise import cosine_similarity\n",
    "from sklearn import svm\n",
    "from sklearn.naive_bayes import GaussianNB, MultinomialNB, BernoulliNB\n",
    "from sklearn.model_selection import cross_val_score\n",
    "from sklearn.model_selection import train_test_split\n",
    "from sklearn.metrics import accuracy_score\n",
    "from sklearn.dummy import DummyClassifier\n",
    "from sklearn.linear_model import LogisticRegression\n",
    "from sklearn.neighbors import KNeighborsClassifier\n",
    "import time\n",
    "import numpy as np"
   ]
  },
  {
   "cell_type": "code",
   "execution_count": 2,
   "metadata": {
    "ExecuteTime": {
     "end_time": "2019-05-14T07:03:22.875809Z",
     "start_time": "2019-05-14T07:03:22.870393Z"
    }
   },
   "outputs": [],
   "source": [
    "train_top_10 = \"./2019S1-proj2-data_dos/train-top10.csv\"\n",
    "dev_top_10 = \"./2019S1-proj2-data_dos/dev-top10.csv\"\n",
    "train_top_50 = \"./2019S1-proj2-data_dos/train-top50.csv\"\n",
    "dev_top_50 = \"./2019S1-proj2-data_dos/dev-top50.csv\"\n",
    "train_top_100 = \"./2019S1-proj2-data_dos/train-top100.csv\"\n",
    "dev_top_100 = \"./2019S1-proj2-data_dos/dev-top100.csv\""
   ]
  },
  {
   "cell_type": "code",
   "execution_count": 3,
   "metadata": {
    "ExecuteTime": {
     "end_time": "2019-05-14T07:03:22.892835Z",
     "start_time": "2019-05-14T07:03:22.878716Z"
    }
   },
   "outputs": [],
   "source": [
    "models = [DummyClassifier(strategy='most_frequent'),\n",
    "          GaussianNB(),\n",
    "          MultinomialNB(),\n",
    "          svm.LinearSVC(),\n",
    "          svm.SVC(),\n",
    "          LogisticRegression()]\n",
    "titles = ['Zero-R',\n",
    "          'GNB',\n",
    "          'MNB',\n",
    "          'Logistic Regression']"
   ]
  },
  {
   "cell_type": "code",
   "execution_count": 4,
   "metadata": {
    "ExecuteTime": {
     "end_time": "2019-05-14T07:03:22.905636Z",
     "start_time": "2019-05-14T07:03:22.895661Z"
    }
   },
   "outputs": [],
   "source": [
    "def load_dataset_without_head(filepath):\n",
    "    X, y = [], []\n",
    "    with open(filepath, 'r') as fin:\n",
    "        for line in fin:\n",
    "            atts = line[:].split(\",\")\n",
    "            # do not insert ID into X\n",
    "            X.append(atts[1:-1])\n",
    "            y.append(atts[-1])\n",
    "            \n",
    "    X = np.array(X, dtype=float)\n",
    "    return X, y\n"
   ]
  },
  {
   "cell_type": "code",
   "execution_count": 5,
   "metadata": {
    "ExecuteTime": {
     "end_time": "2019-05-14T07:03:49.447809Z",
     "start_time": "2019-05-14T07:03:24.082190Z"
    }
   },
   "outputs": [
    {
     "name": "stdout",
     "output_type": "stream",
     "text": [
      "K-NN with cosine similarity 0.3370030383373954 time: 17.365537643432617\n"
     ]
    }
   ],
   "source": [
    "# read csv file\n",
    "X,y = load_dataset_without_head(train_top_100)\n",
    "\n",
    "model = LogisticRegression()\n",
    "\n",
    "# try each model without feature selection\n",
    "start = time.time()\n",
    "acc = np.mean(cross_val_score(model, X, y, cv=10))\n",
    "end = time.time()\n",
    "t = end - start\n",
    "print(\"K-NN with cosine similarity\", acc, 'time:', t)"
   ]
  },
  {
   "cell_type": "code",
   "execution_count": 6,
   "metadata": {
    "ExecuteTime": {
     "end_time": "2019-05-14T07:00:43.326577Z",
     "start_time": "2019-05-14T07:00:35.406757Z"
    }
   },
   "outputs": [],
   "source": [
    "# read csv file\n",
    "X,y = load_dataset_without_head(train_top_100)"
   ]
  },
  {
   "cell_type": "code",
   "execution_count": 6,
   "metadata": {
    "ExecuteTime": {
     "end_time": "2019-05-14T07:11:16.177499Z",
     "start_time": "2019-05-14T07:04:06.405381Z"
    },
    "scrolled": true
   },
   "outputs": [
    {
     "name": "stdout",
     "output_type": "stream",
     "text": [
      "Zero-R 0.25 time: 2.849269151687622\n",
      "GNB 0.3348166405674557 time: 15.301877498626709\n",
      "MNB 0.33661609757412075 time: 5.204035758972168\n",
      "Logistic Regression 0.33800921157427644 time: 397.9090437889099\n"
     ]
    }
   ],
   "source": [
    "# read csv file\n",
    "X,y = load_dataset_without_head(train_top_100)\n",
    "\n",
    "# try each model without feature selection\n",
    "for title, model in zip(titles, models):\n",
    "    start = time.time()\n",
    "    acc = np.mean(cross_val_score(model, X, y, cv=10))\n",
    "    end = time.time()\n",
    "    t = end - start\n",
    "    print(title, acc, 'time:', t)"
   ]
  },
  {
   "cell_type": "code",
   "execution_count": null,
   "metadata": {
    "ExecuteTime": {
     "start_time": "2019-05-14T07:02:17.589Z"
    }
   },
   "outputs": [],
   "source": [
    "# read csv file\n",
    "X,y = load_dataset_without_head(train_top_100)\n",
    "\n",
    "model = KNeighborsClassifier(n_neighbors=3,\n",
    "                 algorithm='auto', metric = \"cosine\")\n",
    "\n",
    "# The memory size of KNN is very large\n",
    "\n",
    "# try each model without feature selection\n",
    "start = time.time()\n",
    "acc = np.mean(cross_val_score(model, X, y, cv=10))\n",
    "end = time.time()\n",
    "t = end - start\n",
    "print(\"K-NN with cosine similarity\", acc, 'time:', t)"
   ]
  },
  {
   "cell_type": "code",
   "execution_count": null,
   "metadata": {},
   "outputs": [],
   "source": []
  }
 ],
 "metadata": {
  "kernelspec": {
   "display_name": "Python 3",
   "language": "python",
   "name": "python3"
  },
  "language_info": {
   "codemirror_mode": {
    "name": "ipython",
    "version": 3
   },
   "file_extension": ".py",
   "mimetype": "text/x-python",
   "name": "python",
   "nbconvert_exporter": "python",
   "pygments_lexer": "ipython3",
   "version": "3.6.7"
  },
  "toc": {
   "base_numbering": 1,
   "nav_menu": {},
   "number_sections": true,
   "sideBar": true,
   "skip_h1_title": false,
   "title_cell": "Table of Contents",
   "title_sidebar": "Contents",
   "toc_cell": false,
   "toc_position": {
    "height": "614.4px",
    "left": "1179.53px",
    "top": "53.6px",
    "width": "212px"
   },
   "toc_section_display": true,
   "toc_window_display": true
  }
 },
 "nbformat": 4,
 "nbformat_minor": 2
}
